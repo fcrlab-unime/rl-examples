{
 "cells": [
  {
   "cell_type": "markdown",
   "id": "bba0e5e5-91aa-432f-8515-62080aad3aa7",
   "metadata": {},
   "source": [
    "# CartPole by Adam Price\n",
    "\n",
    "**author**: [Adam Price](https://adamprice.io)</br>\n",
    "**repository**: [https://github.com/adamprice97/Control](https://github.com/adamprice97/Control)\n",
    "\n",
    "Mr. Adam Price resolved the cart pole problem by applying the Particle Swarm Optimization (PSO), a Swarm Intelligence algorithm."
   ]
  },
  {
   "cell_type": "code",
   "execution_count": 1,
   "id": "1e4d07d9-8c37-4f80-ac82-74e61885c2e9",
   "metadata": {},
   "outputs": [],
   "source": [
    "import time\n",
    "import itertools\n",
    "import numpy as np\n",
    "import gymnasium as gym\n",
    "import matplotlib.pyplot as plt"
   ]
  },
  {
   "cell_type": "markdown",
   "id": "516fe7b4-e099-4399-854c-dbd2f1935e5c",
   "metadata": {},
   "source": [
    "## What Swarm Intelligence is about?\n",
    "Formally, a swarm can be defined as a group of (generally mobile) agents that communicate with each other (either directly or indirectly), by acting on their local environment.\n",
    "\n",
    "Swarm intelligence (SI), also called collective intelligence, falls within the **bio-inspired computation**, which is a field of study which seeks to solve computer science problems using models of biology. \n",
    "\n",
    "SI refers to the problem-solving behavior that emerges from the interaction of agents, and computational swarm intelligence (CSI) refers to algorithmic models of such behavior. More formally, SI is the property of a system whereby the collective behaviors of unsophisticated agents interacting locally with their environment cause coherent functional global patterns to emerge.\n",
    "\n",
    "For example, studies of social animals and social insects have resulted in a number of computational models of SI. Within these swarms, individuals are relatively simple in structure, but their collective behavior is usually very complex. The complex behavior of a swarm is a result of the pattern of interactions between the individuals of the swarm over time. This complex behavior is not a property of any single individual, and is usually not easily predicted or deduced from the simple behaviors of the individuals. This is referred to as **emergence**. More formally defined, emergence is the process of deriving some new and coherent structures, patterns and properties (or behaviors) in a complex system. These structures, patterns and behaviors come in existence without any coordinated control system, but emerge from the interactions of individuals with their local (potentially adaptive) environment."
   ]
  },
  {
   "cell_type": "code",
   "execution_count": 2,
   "id": "9e63c103-4899-4357-9c4a-4ea94258f365",
   "metadata": {},
   "outputs": [],
   "source": [
    "# import the environment\n",
    "environment_name = \"CartPole-v1\"\n",
    "env = gym.make(environment_name, render_mode='rgb_array')"
   ]
  },
  {
   "cell_type": "markdown",
   "id": "21dba80e-e972-4092-8ca1-a41ec870f0b4",
   "metadata": {},
   "source": [
    "## Policy Definition\n",
    "The policy used to learn the optimal position of the cart pole is a softmax, often used in reinforcement learning to convert values in probabilities.\n",
    "\n",
    "$$P_t(a) = \\frac{e^{\\frac{Q_t(a)}{\\tau}}}{\\sum_{i=1}^{n}{e^{\\frac{Q_t(a)}{\\tau}}}}$$\n",
    "\n",
    "where $Q_t(a)$ is the $Q$ function and $\\tau$ a parameter called \"temperature\"."
   ]
  },
  {
   "cell_type": "code",
   "execution_count": 3,
   "id": "27549d32-0b60-4fef-ad6a-84f68d620e2c",
   "metadata": {},
   "outputs": [],
   "source": [
    "class Agent:\n",
    "    def policy(self, state, tau):\n",
    "        a = np.matmul(state, tau)\n",
    "        return np.exp(a)/np.sum(np.exp(a))\n",
    "    \n",
    "agent = Agent()"
   ]
  },
  {
   "cell_type": "markdown",
   "id": "4f223ccf-6868-484e-a85a-b3b5eecca263",
   "metadata": {},
   "source": [
    "## Particle Swarm Optimization\n",
    "The Particle Swarm Optimization (PSO) algorithm is a population-based search algorithm based on the simulation of the social behavior of birds within a flock. The initial intent was to discover patterns that govern the ability of birds to fly synchronously, and to suddenly change direction with a re-grouping in an optimal formation.\n",
    "\n",
    "Each particle keeps track of its coordinates in hyperspace, which are associated with the best solution (fitness) it has achieved so far. This value is called *pbest*.\n",
    "The \"global\" version of the particle swarm optimizer keeps track of the overall best value, and its location, obtained thus far by any particle in the population; this is called *gbest*.\n",
    "\n",
    "A PSO algorithm maintains a swarm of particles, where each particle represents a potential solution. In simple terms, the particles are \"flown\" through a multidimensional search space, where the position of each particle is adjusted according to its own experience and that of its neighbors. Let $x_i(t)$ denote the position of particle $i$ in the search space at time step $t$; unless otherwise stated, $t$ denotes discrete time steps. The position of the particle is changed by adding a velocity, $v_i(t)$, to the current position, i.e.:\n",
    "\n",
    "$$x_i(t + 1) = x_i(t) + v_i(t + 1)$$\n",
    "\n",
    "where $x_i(0) ∼ U(xmin, xmax)$.\n",
    "\n",
    "The velocity vector drives the optimization process, and reflects both the experiential knowledge of the particle and socially exchanged information from the particle’s neighborhood. The experiential knowledge of a particle is generally referred to as the *cognitive component*, which is proportional to the distance of the particle from its own best position found since the first time step. The socially exchanged information is referred to as the social component of the velocity equation.\n",
    "\n",
    "### Global Best PSO\n",
    "The social network reflects the star topology, so the neighborhood for each particle is the entire swarm. The social component of the particle velocity update reflects information obtained from all the particles in the swarm. In this case, the social information is the best position found by the swarm, referred to as $ŷ(t)$. The velocity of particle i is calculated as:\n",
    "\n",
    "$$v_{ij}(t + 1) = v_{ij}(t) + c_1r_{1j}(t) [ y_{ij}(t) − x_{ij}(t) ] + c_2r_{2j}(t) [ ŷ_j(t) − x_{ij}(t) ]$$\n",
    "\n",
    "where\n",
    "- $v_{ij}(t)$ is the velocity of particle i in dimension $j = 1, . . . , n_x$ at time step $t$,\n",
    "- $x_{ij}(t)$ is the position of particle $i$ in dimension $j$ at time step $t$,\n",
    "- $c_1$, and $c_2$ are positive acceleration constants used to scale the contribution of the cognitive and social components respectively, and \n",
    "- $r_{1j}(t)$, $r_{2j}(t) ∼ U(0, 1)$ are random values in the range $[0, 1]$, sampled from a uniform distribution.\n",
    "\n",
    "### Inertia Weight\n",
    "The inertia weight controls the momentum of the particle by weighing the contribution of the previous velocity, basically controlling how much memory of the previous flight direction will influence the new velocity. For the Global Best PSO, the velocity equation changes to:\n",
    "\n",
    "$$v_{ij}(t + 1) = wv_{ij}(t) + c_1r_{1j}(t) [ y_{ij}(t) − x_{ij}(t) ] + c_2r_{2j}(t) [ ŷ_j(t) − x_{ij}(t) ]$$\n",
    "\n",
    "For $w ≥ 1$, velocities increase over time, accelerating towards the maximum velocity, and the swarm diverges. Large values for $w$ facilitate exploration, with increased diversity. For w < 1, particles decelerate until their velocities reach zero. A small $w$ promotes local exploitation."
   ]
  },
  {
   "cell_type": "code",
   "execution_count": 4,
   "id": "6661f195-59c2-4497-b890-c46e62ca2738",
   "metadata": {
    "tags": []
   },
   "outputs": [],
   "source": [
    "class ParticleSwarmOptimisation(object):\n",
    "    \n",
    "    def __init__(self, fitness_function, bounds, particles_number, w, velocity, c1, c2, verbose=False):\n",
    "        self.__fitness_function = fitness_function\n",
    "        self.__swarm = self.__create_swarm(particles_number, bounds, velocity, c1, c2)\n",
    "        self.__bounds = bounds\n",
    "        self.__verbose = verbose\n",
    "\n",
    "    def __create_swarm(self, particles_number, bounds, velocity, c1, c2):\n",
    "        swarm = list()\n",
    "        for i in range(particles_number):\n",
    "            swarm.append( Particle(bounds, w, velocity, c1, c2) )\n",
    "        return swarm\n",
    "    \n",
    "    def maxamize(self, episodes, target):\n",
    "        best_global_fitness = -np.inf\n",
    "        best_global_position = list()\n",
    "        best_globals_fitness = list()\n",
    "        \n",
    "        for episode in range(episodes):\n",
    "            \n",
    "            #Evaluate each particles fitness\n",
    "            for particle in self.__swarm:\n",
    "                fitness = particle.evaluate(self.__fitness_function)\n",
    "                #Determine if current particle is new global best\n",
    "                if fitness > best_global_fitness:\n",
    "                    best_global_position = particle.get_best_position().copy()\n",
    "                    best_global_fitness = particle.get_best_fitness()\n",
    "            \n",
    "            #Update velocity and positions\n",
    "            for particle in self.__swarm:\n",
    "                particle.update_velocity(best_global_position)\n",
    "                particle.update_position(self.__bounds)     \n",
    "            \n",
    "            #Resample best to see if environment is solved\n",
    "            best_global_fitness = self.__fitness_function(best_global_position, 100)\n",
    "            best_globals_fitness.append(best_global_fitness)\n",
    "            if self.__verbose:\n",
    "                print('Iteration: %s, Global best: %s' % (episode, best_global_fitness))\n",
    "            if best_global_fitness >= target:\n",
    "                return episode, best_globals_fitness\n",
    "            \n",
    "        return episode, best_globals_fitness #failed to solve"
   ]
  },
  {
   "cell_type": "code",
   "execution_count": 5,
   "id": "58ec6e7e-294b-49ef-9e19-e55d8f3cfd68",
   "metadata": {
    "tags": []
   },
   "outputs": [],
   "source": [
    "class Particle:\n",
    "    \n",
    "    def __init__(self, bounds, w, velocity, c1, c2):\n",
    "        self.__best_fitness = -np.inf     \n",
    "        self.__best_position = list()\n",
    "        self.__w, self.__c1, self.__c2  = w, c1, c2\n",
    "\n",
    "        # initialize particle position as a uniform distribution between the lower and upper bound\n",
    "        self.__position =  np.random.uniform(low=bounds[0], high=bounds[1], size=8)\n",
    "        # initialize particle velocity as a uniform distribution between the lower and upper velocity\n",
    "        self.__velocity = np.random.uniform(low=-velocity, high=velocity, size=8)\n",
    "    \n",
    "    \n",
    "    def get_best_fitness(self):\n",
    "        return self.__best_fitness\n",
    "    \n",
    "    def get_best_position(self):\n",
    "        return self.__best_position\n",
    "\n",
    "    def evaluate(self, fitness_function):\n",
    "        \"\"\" Evaluate the fitness function\n",
    "        \n",
    "        Args:\n",
    "            fitness_function: the function to be optimized\n",
    "            \n",
    "        Returns:\n",
    "            the best fitness\n",
    "        \"\"\"\n",
    "        fitness = fitness_function(self.__position, 25)\n",
    "        #update best position\n",
    "        if fitness > self.__best_fitness:\n",
    "            self.__best_position = self.__position.copy()\n",
    "            self.__best_fitness = fitness\n",
    "        else:\n",
    "            #Re-evaluate best \n",
    "            self.__best_fitness = fitness_function(self.__best_position, 25)\n",
    "        return self.__best_fitness\n",
    "                    \n",
    "    def update_velocity(self, global_best):\n",
    "        \"\"\" Update new particle velocity\n",
    "        \"\"\"\n",
    "        velocity_local = self.__c1 * np.random.rand( (len(self.__best_position)) ) * (self.__best_position - self.__position)\n",
    "        velocity_global = self.__c2 * np.random.rand( (len(self.__best_position)) ) * (global_best - self.__position)\n",
    "        self.__velocity = self.__w * self.__velocity + velocity_local + velocity_global\n",
    "\n",
    "    def update_position(self, bounds):\n",
    "        \"\"\" Update the particle position\n",
    "        \"\"\"\n",
    "        self.__position = self.__position + self.__velocity\n",
    "        self.__position[self.__position < bounds[0]] = bounds[0] # set lower bound\n",
    "        self.__position[self.__position > bounds[1]] = bounds[1] # set upper bound"
   ]
  },
  {
   "cell_type": "markdown",
   "id": "af8277e6-9561-48da-83e9-f2bbf198ed2b",
   "metadata": {},
   "source": [
    "Let's build the computation of a single episode."
   ]
  },
  {
   "cell_type": "code",
   "execution_count": 6,
   "id": "00ed75bf-61f7-43ce-8ba9-2a246195738e",
   "metadata": {
    "tags": []
   },
   "outputs": [],
   "source": [
    "def play_once(env, agent, policy):\n",
    "    observation, _ = env.reset()\n",
    "    episode_reward = 0.\n",
    "    for step in itertools.count():\n",
    "        probs = agent.policy(observation, policy)\n",
    "        action = np.random.choice(2, p=probs)\n",
    "        observation, reward, terminated, truncated, info = env.step(action)\n",
    "        episode_reward += reward\n",
    "        if terminated or truncated:\n",
    "            break\n",
    "    return episode_reward"
   ]
  },
  {
   "cell_type": "code",
   "execution_count": 7,
   "id": "6f054a12-9072-45ca-a5ce-d52eae36e024",
   "metadata": {
    "tags": []
   },
   "outputs": [],
   "source": [
    "episodes = 10\n",
    "\n",
    "weight_space_bounds = 8\n",
    "particles_number = 15\n",
    "w = 0.5 # inertia\n",
    "initial_velocity_bounds = 0.25\n",
    "c1 = 2 # local weight\n",
    "c2 = 2 # global weight\n",
    "\n",
    "reward_target = 500."
   ]
  },
  {
   "cell_type": "code",
   "execution_count": 8,
   "id": "c9596bf6-c94f-4cac-9757-27f68d278139",
   "metadata": {
    "tags": []
   },
   "outputs": [],
   "source": [
    "def fitness_function(position, episodes):\n",
    "    policy = np.reshape(position, (4,2))\n",
    "    episode_rewards = list()\n",
    "    for episode in range(episodes):\n",
    "        episode_reward = play_once(env, agent, policy)\n",
    "        #print('Episode %s reward is %s' % (episode, episode_reward))\n",
    "        episode_rewards.append(episode_reward)\n",
    "    episode_rewards_mean = np.mean(episode_rewards)\n",
    "    #print('average episode rewards = %s' % (episode_rewards_mean))\n",
    "    return episode_rewards_mean"
   ]
  },
  {
   "cell_type": "code",
   "execution_count": 9,
   "id": "41e6a7e5-5802-437e-82d4-c812b14d541c",
   "metadata": {},
   "outputs": [
    {
     "name": "stdout",
     "output_type": "stream",
     "text": [
      "Iteration: 0, Global best: 130.95\n",
      "Iteration: 1, Global best: 218.0\n",
      "Iteration: 2, Global best: 415.13\n",
      "Iteration: 3, Global best: 421.61\n",
      "Iteration: 4, Global best: 441.59\n",
      "Iteration: 5, Global best: 458.47\n",
      "Iteration: 6, Global best: 460.51\n",
      "Iteration: 7, Global best: 478.0\n",
      "Iteration: 8, Global best: 476.85\n",
      "Iteration: 9, Global best: 490.33\n"
     ]
    }
   ],
   "source": [
    "solver = ParticleSwarmOptimisation(\n",
    "    fitness_function, \n",
    "    bounds=(-weight_space_bounds, weight_space_bounds),\n",
    "    particles_number=particles_number,\n",
    "    w=w,\n",
    "    velocity=initial_velocity_bounds,\n",
    "    c1=c1,\n",
    "    c2=c2,\n",
    "    verbose=True\n",
    ")\n",
    "episodes, episode_rewards = solver.maxamize(episodes, reward_target)"
   ]
  },
  {
   "cell_type": "code",
   "execution_count": 10,
   "id": "103688fa-60d0-412c-a34a-7bf37962bf92",
   "metadata": {},
   "outputs": [],
   "source": [
    "env.close()"
   ]
  },
  {
   "cell_type": "code",
   "execution_count": 11,
   "id": "67ab20b0-30ae-4cd8-be4e-0072ce24d283",
   "metadata": {},
   "outputs": [
    {
     "data": {
      "image/png": "[encoded data removed]",
      "text/plain": [
       "<Figure size 640x480 with 1 Axes>"
      ]
     },
     "metadata": {},
     "output_type": "display_data"
    }
   ],
   "source": [
    "episode_series = range(0, episodes+1)\n",
    "plt.axhline(y = env.spec.max_episode_steps, color = 'r', linestyle = '-')\n",
    "plt.plot(episode_series, episode_rewards)\n",
    "plt.ylim([0, env.spec.max_episode_steps+20])\n",
    "plt.xlabel('reward')\n",
    "plt.ylabel('episodes')\n",
    "plt.show()"
   ]
  },
  {
   "cell_type": "markdown",
   "id": "0dde0263-5217-41f4-a4f6-3603da0db0fc",
   "metadata": {},
   "source": [
    "## References\n",
    "- [The CartPole Problem — Competitive Performance With Particle Swarm Optimization](https://towardsdatascience.com/the-cartepole-problem-competitive-performance-with-particle-swarm-optimization-672f018ede3c)"
   ]
  }
 ],
 "metadata": {
  "kernelspec": {
   "display_name": "examples-rl",
   "language": "python",
   "name": "examples-rl"
  },
  "language_info": {
   "codemirror_mode": {
    "name": "ipython",
    "version": 3
   },
   "file_extension": ".py",
   "mimetype": "text/x-python",
   "name": "python",
   "nbconvert_exporter": "python",
   "pygments_lexer": "ipython3",
   "version": "3.10.6"
  }
 },
 "nbformat": 4,
 "nbformat_minor": 5
}
