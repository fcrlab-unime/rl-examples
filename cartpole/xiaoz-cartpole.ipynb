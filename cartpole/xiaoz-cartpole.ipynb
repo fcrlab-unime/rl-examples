{
 "cells": [
  {
   "cell_type": "markdown",
   "id": "1921c34b-187d-4c75-86aa-a10279f688d7",
   "metadata": {},
   "source": [
    "# CartPole by Zhiqing Xiao\n",
    "\n",
    "[GitHub repository](https://github.com/ZhiqingXiao/OpenAIGymSolution/tree/master/CartPole-v0)\n",
    "\n",
    "Dr. Zhiqing Xiao resolved the cart pole problem by applying a fixed deterministic policy, as follows:\n",
    "\n",
    "\n",
    "```\n",
    "if (3 * angle + angle_velocity) > 0:\n",
    "  push_right()\n",
    "otherwise:\n",
    "  push left()\n",
    "```"
   ]
  },
  {
   "cell_type": "code",
   "execution_count": 1,
   "id": "3d563770-396c-4ca3-9735-1658ed678831",
   "metadata": {},
   "outputs": [],
   "source": [
    "import itertools\n",
    "import numpy as np\n",
    "import gymnasium as gym\n",
    "import matplotlib.pyplot as plt"
   ]
  },
  {
   "cell_type": "code",
   "execution_count": 2,
   "id": "af379f4d-c5a7-4fee-b510-476b725ab578",
   "metadata": {},
   "outputs": [],
   "source": [
    "np.random.seed(0)\n",
    "env = gym.make(\"CartPole-v1\", render_mode='rgb_array')"
   ]
  },
  {
   "cell_type": "code",
   "execution_count": 3,
   "id": "58c05bfb-6ea1-4cd4-8575-2c33e7e797af",
   "metadata": {},
   "outputs": [],
   "source": [
    "class Agent:\n",
    "    def decide(self, observation):\n",
    "        position, velocity, angle, angle_velocity = observation\n",
    "        action = int(3. * angle + angle_velocity > 0.)\n",
    "        return action\n",
    "\n",
    "agent = Agent()"
   ]
  },
  {
   "cell_type": "code",
   "execution_count": 4,
   "id": "86b25d97-921c-4892-8178-ebd3c2380c68",
   "metadata": {
    "tags": []
   },
   "outputs": [],
   "source": [
    "def play_once(env, agent, verbose=False):\n",
    "    observation, _ = env.reset()\n",
    "    episode_reward = 0.\n",
    "    for step in itertools.count():\n",
    "        action = agent.decide(observation)\n",
    "        #print(step, env.step(action))\n",
    "        observation, reward, terminated, truncated, info = env.step(action)\n",
    "        episode_reward += reward\n",
    "        if terminated or truncated:\n",
    "            break\n",
    "    if verbose:\n",
    "        print('get {} rewards in {} steps'.format(\n",
    "                episode_reward, step + 1))\n",
    "    return episode_reward"
   ]
  },
  {
   "cell_type": "code",
   "execution_count": 5,
   "id": "c6101386-95f0-44df-871c-bfc80f6c572a",
   "metadata": {},
   "outputs": [],
   "source": [
    "episodes = 100"
   ]
  },
  {
   "cell_type": "code",
   "execution_count": 6,
   "id": "e4b05a32-f835-4c14-9658-f54c1f016ccb",
   "metadata": {},
   "outputs": [
    {
     "name": "stdout",
     "output_type": "stream",
     "text": [
      "average episode rewards = 500.0\n"
     ]
    }
   ],
   "source": [
    "episode_rewards = list()\n",
    "for episode in range(episodes):\n",
    "    episode_reward = play_once(env, agent, verbose=False)\n",
    "    #print('Episode %s reward is %s' % (episode, episode_reward))\n",
    "    episode_rewards.append(episode_reward)\n",
    "print('average episode rewards = {}'.format(np.mean(episode_rewards)))"
   ]
  },
  {
   "cell_type": "code",
   "execution_count": 7,
   "id": "1af68dca-411b-4be7-a26d-84ddd8c0461f",
   "metadata": {},
   "outputs": [],
   "source": [
    "env.close()"
   ]
  },
  {
   "cell_type": "code",
   "execution_count": 25,
   "id": "70b4da1d-caba-43e3-8579-94f0bb177d91",
   "metadata": {},
   "outputs": [
    {
     "data": {
      "image/png": "[encoded data removed]",
      "text/plain": [
       "<Figure size 640x480 with 1 Axes>"
      ]
     },
     "metadata": {},
     "output_type": "display_data"
    }
   ],
   "source": [
    "episode_series = range(1, episodes+1)\n",
    "plt.axhline(y = env.spec.max_episode_steps, color = 'r', linestyle = '-')\n",
    "plt.plot(episode_series, episode_rewards)\n",
    "plt.ylim([0, env.spec.max_episode_steps+20])\n",
    "plt.xlabel('reward')\n",
    "plt.ylabel('episodes')\n",
    "plt.show()"
   ]
  }
 ],
 "metadata": {
  "kernelspec": {
   "display_name": "examples-rl",
   "language": "python",
   "name": "examples-rl"
  },
  "language_info": {
   "codemirror_mode": {
    "name": "ipython",
    "version": 3
   },
   "file_extension": ".py",
   "mimetype": "text/x-python",
   "name": "python",
   "nbconvert_exporter": "python",
   "pygments_lexer": "ipython3",
   "version": "3.10.6"
  }
 },
 "nbformat": 4,
 "nbformat_minor": 5
}
